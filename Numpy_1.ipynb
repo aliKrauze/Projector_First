{
 "cells": [
  {
   "cell_type": "markdown",
   "metadata": {},
   "source": [
    "1. Nimpy\n",
    "a. Create an array with shape(4, 3) of: all zeros b. ones c. numbers from 0 to 11"
   ]
  },
  {
   "cell_type": "code",
   "execution_count": 1,
   "metadata": {},
   "outputs": [
    {
     "name": "stdout",
     "output_type": "stream",
     "text": [
      "Array of all zeros:\n",
      "[[0. 0. 0.]\n",
      " [0. 0. 0.]\n",
      " [0. 0. 0.]\n",
      " [0. 0. 0.]]\n",
      "Array of all ones:\n",
      "[[1. 1. 1.]\n",
      " [1. 1. 1.]\n",
      " [1. 1. 1.]\n",
      " [1. 1. 1.]]\n",
      "Array of numbers from 0 to 11:\n",
      "[ 0  1  2  3  4  5  6  7  8  9 10 11]\n"
     ]
    }
   ],
   "source": [
    "import numpy as np\n",
    "\n",
    "zeros = np.zeros((4, 3))\n",
    "print(\"Array of all zeros:\")\n",
    "print(zeros)\n",
    "\n",
    "ones = np.ones((4, 3))\n",
    "print(\"Array of all ones:\")\n",
    "print(ones)\n",
    "\n",
    "numbers = np.arange(0, 12)\n",
    "print(\"Array of numbers from 0 to 11:\")\n",
    "print(numbers)"
   ]
  },
  {
   "cell_type": "markdown",
   "metadata": {},
   "source": [
    "b. Tabulate the following function: F(x)=2x^2+5, x∈[1,100] with step 1."
   ]
  },
  {
   "cell_type": "code",
   "execution_count": 9,
   "metadata": {},
   "outputs": [
    {
     "name": "stdout",
     "output_type": "stream",
     "text": [
      "Tabulation of F(x)=2x^2+5:\n",
      "[  1   2   3   4   5   6   7   8   9  10  11  12  13  14  15  16  17  18\n",
      "  19  20  21  22  23  24  25  26  27  28  29  30  31  32  33  34  35  36\n",
      "  37  38  39  40  41  42  43  44  45  46  47  48  49  50  51  52  53  54\n",
      "  55  56  57  58  59  60  61  62  63  64  65  66  67  68  69  70  71  72\n",
      "  73  74  75  76  77  78  79  80  81  82  83  84  85  86  87  88  89  90\n",
      "  91  92  93  94  95  96  97  98  99 100] [    7    13    23    37    55    77   103   133   167   205   247   293\n",
      "   343   397   455   517   583   653   727   805   887   973  1063  1157\n",
      "  1255  1357  1463  1573  1687  1805  1927  2053  2183  2317  2455  2597\n",
      "  2743  2893  3047  3205  3367  3533  3703  3877  4055  4237  4423  4613\n",
      "  4807  5005  5207  5413  5623  5837  6055  6277  6503  6733  6967  7205\n",
      "  7447  7693  7943  8197  8455  8717  8983  9253  9527  9805 10087 10373\n",
      " 10663 10957 11255 11557 11863 12173 12487 12805 13127 13453 13783 14117\n",
      " 14455 14797 15143 15493 15847 16205 16567 16933 17303 17677 18055 18437\n",
      " 18823 19213 19607 20005]\n"
     ]
    }
   ],
   "source": [
    "import numpy as np\n",
    "\n",
    "def f(x):\n",
    "  return 2 * x ** 2 + 5\n",
    "\n",
    "x = np.arange(1, 101, 1)\n",
    "y = f(x)\n",
    "\n",
    "print(\"Tabulation of F(x)=2x^2+5:\")\n",
    "print(x, y)"
   ]
  },
  {
   "cell_type": "markdown",
   "metadata": {},
   "source": [
    "c. Tabulate the following function: F(x)=e^−x, x∈[−10,10] with step 1."
   ]
  },
  {
   "cell_type": "code",
   "execution_count": 10,
   "metadata": {},
   "outputs": [
    {
     "name": "stdout",
     "output_type": "stream",
     "text": [
      "Tabulation of F(x)=e^-x:\n",
      "[-10  -9  -8  -7  -6  -5  -4  -3  -2  -1   0   1   2   3   4   5   6   7\n",
      "   8   9  10] [2.20264658e+04 8.10308393e+03 2.98095799e+03 1.09663316e+03\n",
      " 4.03428793e+02 1.48413159e+02 5.45981500e+01 2.00855369e+01\n",
      " 7.38905610e+00 2.71828183e+00 1.00000000e+00 3.67879441e-01\n",
      " 1.35335283e-01 4.97870684e-02 1.83156389e-02 6.73794700e-03\n",
      " 2.47875218e-03 9.11881966e-04 3.35462628e-04 1.23409804e-04\n",
      " 4.53999298e-05]\n"
     ]
    }
   ],
   "source": [
    "import numpy as np\n",
    "\n",
    "def f(x):\n",
    "    return np.exp(-x)\n",
    "\n",
    "x = np.arange(-10, 11, 1)\n",
    "y = f(x)\n",
    "\n",
    "print(\"Tabulation of F(x)=e^-x:\")\n",
    "print(x, y)"
   ]
  }
 ],
 "metadata": {
  "kernelspec": {
   "display_name": "Python 3",
   "language": "python",
   "name": "python3"
  },
  "language_info": {
   "codemirror_mode": {
    "name": "ipython",
    "version": 3
   },
   "file_extension": ".py",
   "mimetype": "text/x-python",
   "name": "python",
   "nbconvert_exporter": "python",
   "pygments_lexer": "ipython3",
   "version": "3.8.10"
  },
  "orig_nbformat": 4
 },
 "nbformat": 4,
 "nbformat_minor": 2
}
